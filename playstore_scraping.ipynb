{
  "cells": [
    {
      "cell_type": "markdown",
      "metadata": {
        "id": "view-in-github",
        "colab_type": "text"
      },
      "source": [
        "<a href=\"https://colab.research.google.com/github/dewipuspita0904/Proyek-Analisis-Sentimen-Awal/blob/main/playstore_scraping.ipynb\" target=\"_parent\"><img src=\"https://colab.research.google.com/assets/colab-badge.svg\" alt=\"Open In Colab\"/></a>"
      ]
    },
    {
      "cell_type": "markdown",
      "metadata": {
        "id": "ZS3XskAEVQW1"
      },
      "source": [
        "# Scraping Review Aplikasi Hay Day"
      ]
    },
    {
      "cell_type": "markdown",
      "metadata": {
        "id": "60MgJJN3UATw"
      },
      "source": [
        "## Install & Import Library"
      ]
    },
    {
      "cell_type": "code",
      "execution_count": 9,
      "metadata": {
        "colab": {
          "base_uri": "https://localhost:8080/"
        },
        "id": "emM7xe_aUDLp",
        "outputId": "b571af39-9370-4da9-9d64-ade53c4ca438"
      },
      "outputs": [
        {
          "output_type": "stream",
          "name": "stdout",
          "text": [
            "Requirement already satisfied: google-play-scraper in /usr/local/lib/python3.11/dist-packages (1.2.7)\n"
          ]
        }
      ],
      "source": [
        "!pip install google-play-scraper"
      ]
    },
    {
      "cell_type": "code",
      "execution_count": 16,
      "metadata": {
        "id": "nAGBBPnxUTjU",
        "colab": {
          "base_uri": "https://localhost:8080/"
        },
        "outputId": "85fb6be9-7646-40ba-a164-442e51af0d96"
      },
      "outputs": [
        {
          "output_type": "stream",
          "name": "stderr",
          "text": [
            "[nltk_data] Downloading package punkt to /root/nltk_data...\n",
            "[nltk_data]   Package punkt is already up-to-date!\n",
            "[nltk_data] Downloading package stopwords to /root/nltk_data...\n",
            "[nltk_data]   Package stopwords is already up-to-date!\n"
          ]
        },
        {
          "output_type": "execute_result",
          "data": {
            "text/plain": [
              "True"
            ]
          },
          "metadata": {},
          "execution_count": 16
        }
      ],
      "source": [
        "from google_play_scraper import app, reviews, Sort, reviews_all\n",
        "\n",
        "import pandas as pd\n",
        "pd.options.mode.chained_assignment = None\n",
        "import numpy as np\n",
        "seed = 0\n",
        "np.random.seed(seed)\n",
        "import matplotlib.pyplot as plt\n",
        "import seaborn as sns\n",
        "import datetime as dt\n",
        "import re\n",
        "import string\n",
        "import time\n",
        "import nltk\n",
        "from nltk.corpus import stopwords\n",
        "from nltk.tokenize import word_tokenize\n",
        "from nltk.stem import WordNetLemmatizer\n",
        "nltk.download('punkt')\n",
        "nltk.download('stopwords')"
      ]
    },
    {
      "cell_type": "code",
      "source": [
        "!pip install sastrawi\n",
        "from Sastrawi.Stemmer.StemmerFactory import StemmerFactory\n",
        "from Sastrawi.StopWordRemover.StopWordRemoverFactory import StopWordRemoverFactory\n",
        "\n",
        "from wordcloud import WordCloud"
      ],
      "metadata": {
        "colab": {
          "base_uri": "https://localhost:8080/"
        },
        "id": "3Dyqt2q9hJRr",
        "outputId": "f6a47432-3796-4557-cbc5-a329df06d1b7"
      },
      "execution_count": 17,
      "outputs": [
        {
          "output_type": "stream",
          "name": "stdout",
          "text": [
            "Requirement already satisfied: sastrawi in /usr/local/lib/python3.11/dist-packages (1.0.1)\n"
          ]
        }
      ]
    },
    {
      "cell_type": "markdown",
      "metadata": {
        "id": "I0BaVMAfUW6L"
      },
      "source": [
        "## Konfigurasi"
      ]
    },
    {
      "cell_type": "code",
      "execution_count": 18,
      "metadata": {
        "id": "Y5fA4Mb_Umbh"
      },
      "outputs": [],
      "source": [
        "APP_PACKAGE = 'com.zhiliaoapp.musically'       # TikTok\n",
        "MAX_REVIEWS = 10000                            # Target jumlah review\n",
        "BATCH_SIZE = 200                               # Ambil per 200 komentar\n",
        "SLEEP_SEC = 1                                  # Delay antar-batch untuk menghindari pemblokiran"
      ]
    },
    {
      "cell_type": "code",
      "source": [
        "# 📥 Tempat menyimpan hasil scraping\n",
        "all_reviews = []\n",
        "next_token = None\n",
        "\n",
        "print(\"🔄 Memulai scraping review TikTok...\")"
      ],
      "metadata": {
        "id": "VrcfrXZPDrFd",
        "colab": {
          "base_uri": "https://localhost:8080/"
        },
        "outputId": "69d223b0-72ab-4295-e2c1-abfe8f21abf8"
      },
      "execution_count": 19,
      "outputs": [
        {
          "output_type": "stream",
          "name": "stdout",
          "text": [
            "🔄 Memulai scraping review TikTok...\n"
          ]
        }
      ]
    },
    {
      "cell_type": "code",
      "source": [
        "# 🔁 Loop untuk ambil review secara bertahap\n",
        "while len(all_reviews) < MAX_REVIEWS:\n",
        "    count = min(BATCH_SIZE, MAX_REVIEWS - len(all_reviews))\n",
        "\n",
        "    result, next_token = reviews(\n",
        "        APP_PACKAGE,\n",
        "        lang='id',        # Bahasa Indonesia\n",
        "        country='id',     # Review dari Indonesia\n",
        "        sort=Sort.NEWEST,\n",
        "        count=count,\n",
        "        continuation_token=next_token  # Ambil dari posisi terakhir\n",
        "    )\n",
        "\n",
        "    all_reviews.extend(result)\n",
        "    print(f\"✅ Total review terkumpul: {len(all_reviews)}\")\n",
        "\n",
        "    if next_token is None:\n",
        "        break  # Sudah tidak ada review lagi\n",
        "    time.sleep(SLEEP_SEC)  # Delay untuk amankan scraping\n"
      ],
      "metadata": {
        "colab": {
          "base_uri": "https://localhost:8080/"
        },
        "id": "Pylecwc1DuwR",
        "outputId": "21f64249-83ec-4ddb-e97c-74d47b4ac4bf"
      },
      "execution_count": 20,
      "outputs": [
        {
          "output_type": "stream",
          "name": "stdout",
          "text": [
            "✅ Total review terkumpul: 200\n",
            "✅ Total review terkumpul: 400\n",
            "✅ Total review terkumpul: 600\n",
            "✅ Total review terkumpul: 800\n",
            "✅ Total review terkumpul: 1000\n",
            "✅ Total review terkumpul: 1200\n",
            "✅ Total review terkumpul: 1400\n",
            "✅ Total review terkumpul: 1600\n",
            "✅ Total review terkumpul: 1800\n",
            "✅ Total review terkumpul: 2000\n",
            "✅ Total review terkumpul: 2200\n",
            "✅ Total review terkumpul: 2400\n",
            "✅ Total review terkumpul: 2600\n",
            "✅ Total review terkumpul: 2800\n",
            "✅ Total review terkumpul: 3000\n",
            "✅ Total review terkumpul: 3200\n",
            "✅ Total review terkumpul: 3400\n",
            "✅ Total review terkumpul: 3600\n",
            "✅ Total review terkumpul: 3800\n",
            "✅ Total review terkumpul: 4000\n",
            "✅ Total review terkumpul: 4200\n",
            "✅ Total review terkumpul: 4400\n",
            "✅ Total review terkumpul: 4600\n",
            "✅ Total review terkumpul: 4800\n",
            "✅ Total review terkumpul: 5000\n",
            "✅ Total review terkumpul: 5200\n",
            "✅ Total review terkumpul: 5400\n",
            "✅ Total review terkumpul: 5600\n",
            "✅ Total review terkumpul: 5800\n",
            "✅ Total review terkumpul: 6000\n",
            "✅ Total review terkumpul: 6200\n",
            "✅ Total review terkumpul: 6400\n",
            "✅ Total review terkumpul: 6600\n",
            "✅ Total review terkumpul: 6800\n",
            "✅ Total review terkumpul: 7000\n",
            "✅ Total review terkumpul: 7200\n",
            "✅ Total review terkumpul: 7400\n",
            "✅ Total review terkumpul: 7600\n",
            "✅ Total review terkumpul: 7800\n",
            "✅ Total review terkumpul: 8000\n",
            "✅ Total review terkumpul: 8200\n",
            "✅ Total review terkumpul: 8400\n",
            "✅ Total review terkumpul: 8600\n",
            "✅ Total review terkumpul: 8800\n",
            "✅ Total review terkumpul: 9000\n",
            "✅ Total review terkumpul: 9200\n",
            "✅ Total review terkumpul: 9400\n",
            "✅ Total review terkumpul: 9600\n",
            "✅ Total review terkumpul: 9800\n",
            "✅ Total review terkumpul: 10000\n"
          ]
        }
      ]
    },
    {
      "cell_type": "markdown",
      "metadata": {
        "id": "zNFYqFqUUxnn"
      },
      "source": [
        "## Konversi ke DataFrame"
      ]
    },
    {
      "cell_type": "code",
      "execution_count": 21,
      "metadata": {
        "id": "Z6d_T4YXU0bL"
      },
      "outputs": [],
      "source": [
        "df = pd.DataFrame(all_reviews)\n",
        "df_clean = df[['content', 'score']].dropna()\n",
        "df_clean.to_csv('dataset_playstore_reviews.csv', index=False)\n",
        "df.drop_duplicates(inplace=True)\n",
        "df.reset_index(drop=True, inplace=True)"
      ]
    },
    {
      "cell_type": "markdown",
      "metadata": {
        "id": "AMbZ7_15VKcD"
      },
      "source": [
        "# Simpan ke CSV"
      ]
    },
    {
      "cell_type": "code",
      "execution_count": 22,
      "metadata": {
        "id": "h-5tklxYVXxX",
        "colab": {
          "base_uri": "https://localhost:8080/"
        },
        "outputId": "2a86a706-6649-4cad-c957-be5dc874b7d5"
      },
      "outputs": [
        {
          "output_type": "stream",
          "name": "stdout",
          "text": [
            "Scraping selesai! Jumlah data: 10000\n"
          ]
        }
      ],
      "source": [
        "df.to_csv('dataset_playstore_reviews.csv', index=False)\n",
        "print(\"Scraping selesai! Jumlah data:\", len(df))"
      ]
    }
  ],
  "metadata": {
    "colab": {
      "provenance": [],
      "authorship_tag": "ABX9TyMStCAjvwM4L8XXYEADbRM0",
      "include_colab_link": true
    },
    "kernelspec": {
      "display_name": "Python 3",
      "name": "python3"
    },
    "language_info": {
      "name": "python"
    }
  },
  "nbformat": 4,
  "nbformat_minor": 0
}